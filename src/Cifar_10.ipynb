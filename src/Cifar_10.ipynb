{
 "cells": [
  {
   "cell_type": "markdown",
   "metadata": {},
   "source": [
    "# 本代码由 ChatGPT 生成，作为个人学习卷积神经网络（CNN）的demo。"
   ]
  },
  {
   "cell_type": "markdown",
   "metadata": {},
   "source": [
    "<hr>"
   ]
  },
  {
   "cell_type": "markdown",
   "metadata": {},
   "source": [
    "# 1.导入必要的库\n",
    "- torch\n",
    "- torchvision\n",
    "- pandas\n",
    "- matplotlib\n",
    "- pillow\n",
    "- tqdm\n",
    "- ipykernel"
   ]
  },
  {
   "cell_type": "code",
   "execution_count": 9,
   "metadata": {},
   "outputs": [],
   "source": [
    "import os\n",
    "import torch\n",
    "import torch.nn as nn\n",
    "import torch.optim as optim\n",
    "import torchvision\n",
    "import torchvision.transforms as transforms\n",
    "from torch.utils.data import DataLoader, Dataset, random_split\n",
    "import pandas as pd\n",
    "import matplotlib.pyplot as plt\n",
    "from PIL import Image\n",
    "from torch.cuda.amp import GradScaler, autocast\n",
    "from tqdm import tqdm\n",
    "\n",
    "torch.backends.cudnn.benchmark = True"
   ]
  },
  {
   "cell_type": "markdown",
   "metadata": {},
   "source": [
    "# 2.数据读取"
   ]
  },
  {
   "cell_type": "markdown",
   "metadata": {},
   "source": [
    "### 2.1 定义train与标签路径"
   ]
  },
  {
   "cell_type": "code",
   "execution_count": 10,
   "metadata": {},
   "outputs": [],
   "source": [
    "IMG_DIR = '../data/cifar-10/train'\n",
    "LABELS_FILE = '../data/cifar-10/trainLabels.csv'"
   ]
  },
  {
   "cell_type": "markdown",
   "metadata": {},
   "source": [
    "### 2.2 自定义Dataset用于迭代读取图片"
   ]
  },
  {
   "cell_type": "code",
   "execution_count": null,
   "metadata": {},
   "outputs": [],
   "source": [
    "class CustomCIFAR10Dataset(Dataset):\n",
    "    def __init__(self, img_dir, labels_file, transform=None):\n",
    "        # 初始化数据集，加载图像目录和标签文件\n",
    "        self.img_dir = img_dir\n",
    "        self.transform = transform\n",
    "        self.labels = pd.read_csv(labels_file)  # 读取标签文件\n",
    "        self.labels.set_index('id', inplace=True)  # 将标签文件的索引设置为 'id'\n",
    "\n",
    "    def __len__(self):\n",
    "        # 返回数据集的大小\n",
    "        return len(self.labels)\n",
    "\n",
    "    def __getitem__(self, idx):\n",
    "        # 根据索引获取图像和标签\n",
    "        img_name = f\"{self.labels.index[idx]}.png\"  # 获取图像文件名\n",
    "        img_path = os.path.join(self.img_dir, img_name)  # 获取图像路径\n",
    "        image = Image.open(img_path).convert('RGB')  # 打开图像并转换为 RGB 模式\n",
    "        if self.transform:\n",
    "            image = self.transform(image)  # 如果有变换操作，则应用变换\n",
    "        label = self.labels.loc[self.labels.index[idx], 'label']  # 获取标签\n",
    "        label = self.label_to_index(label)  # 将标签转换为索引\n",
    "        return image, label  # 返回图像和标签\n",
    "\n",
    "    def label_to_index(self, label):\n",
    "        # 将标签转换为索引\n",
    "        label_map = {\n",
    "            'airplane': 0, 'automobile': 1, 'bird': 2, 'cat': 3, 'deer': 4,\n",
    "            'dog': 5, 'frog': 6, 'horse': 7, 'ship': 8, 'truck': 9\n",
    "        }\n",
    "        return label_map[label]"
   ]
  },
  {
   "cell_type": "markdown",
   "metadata": {},
   "source": [
    "### 2.3 数据增强和训练集验证集构建"
   ]
  },
  {
   "cell_type": "code",
   "execution_count": 12,
   "metadata": {},
   "outputs": [],
   "source": [
    "# 数据预处理\n",
    "normalize = transforms.Normalize([0.485, 0.456, 0.406], [0.229, 0.224, 0.225])\n",
    "train_transforms = transforms.Compose([\n",
    "    transforms.RandomResizedCrop(224),\n",
    "    transforms.RandomHorizontalFlip(),\n",
    "    transforms.ToTensor(),\n",
    "    normalize\n",
    "])\n",
    "test_transforms = transforms.Compose([\n",
    "    transforms.Resize(256),\n",
    "    transforms.CenterCrop(224),\n",
    "    transforms.ToTensor(),\n",
    "    normalize\n",
    "])\n",
    "\n",
    "# 构造数据集\n",
    "dataset = CustomCIFAR10Dataset(img_dir=IMG_DIR, labels_file=LABELS_FILE, transform=train_transforms)\n",
    "\n",
    "# 划分训练集和验证集\n",
    "train_size = int(0.8 * len(dataset))\n",
    "val_size = len(dataset) - train_size\n",
    "train_dataset, val_dataset = random_split(dataset, [train_size, val_size])\n",
    "\n",
    "# 使用不同的变换\n",
    "train_dataset.dataset.transform = train_transforms\n",
    "val_dataset.dataset.transform = test_transforms\n",
    "\n",
    "# 数据加载器\n",
    "train_loader = DataLoader(train_dataset, batch_size=128, shuffle=True, pin_memory=True)\n",
    "val_loader = DataLoader(val_dataset, batch_size=128, shuffle=False, pin_memory=True)"
   ]
  },
  {
   "cell_type": "markdown",
   "metadata": {},
   "source": [
    "# 3.加载ResNet-18模型"
   ]
  },
  {
   "cell_type": "code",
   "execution_count": null,
   "metadata": {},
   "outputs": [
    {
     "name": "stderr",
     "output_type": "stream",
     "text": [
      "C:\\Users\\Doog\\AppData\\Roaming\\Python\\Python39\\site-packages\\torchvision\\models\\_utils.py:208: UserWarning: The parameter 'pretrained' is deprecated since 0.13 and may be removed in the future, please use 'weights' instead.\n",
      "  warnings.warn(\n",
      "C:\\Users\\Doog\\AppData\\Roaming\\Python\\Python39\\site-packages\\torchvision\\models\\_utils.py:223: UserWarning: Arguments other than a weight enum or `None` for 'weights' are deprecated since 0.13 and may be removed in the future. The current behavior is equivalent to passing `weights=ResNet18_Weights.IMAGENET1K_V1`. You can also use `weights=ResNet18_Weights.DEFAULT` to get the most up-to-date weights.\n",
      "  warnings.warn(msg)\n",
      "C:\\Users\\Doog\\AppData\\Local\\Temp\\ipykernel_5008\\105165728.py:8: FutureWarning: `torch.cuda.amp.GradScaler(args...)` is deprecated. Please use `torch.amp.GradScaler('cuda', args...)` instead.\n",
      "  scaler = GradScaler()\n"
     ]
    }
   ],
   "source": [
    "# 检查是否有可用的 GPU，如果有则使用 GPU，否则使用 CPU\n",
    "device = torch.device('cuda' if torch.cuda.is_available() else 'cpu')\n",
    "\n",
    "# 加载预训练的 ResNet-18 模型\n",
    "model = torchvision.models.resnet18(pretrained=True)\n",
    "\n",
    "# 修改最后一层全连接层，使其输出 10 个类别（对应 CIFAR-10 数据集的 10 个类别）\n",
    "model.fc = nn.Linear(512, 10)\n",
    "\n",
    "# 将模型移动到指定设备（GPU 或 CPU）\n",
    "model = model.to(device)\n",
    "\n",
    "# 定义损失函数为交叉熵损失\n",
    "criterion = nn.CrossEntropyLoss()\n",
    "\n",
    "# 定义优化器为随机梯度下降（SGD），学习率为 0.001，动量为 0.9\n",
    "optimizer = optim.SGD(model.parameters(), lr=0.001, momentum=0.9)\n",
    "\n",
    "# 定义梯度缩放器，用于混合精度训练\n",
    "scaler = GradScaler()"
   ]
  },
  {
   "cell_type": "markdown",
   "metadata": {},
   "source": [
    "# 4. 训练"
   ]
  },
  {
   "cell_type": "code",
   "execution_count": null,
   "metadata": {},
   "outputs": [
    {
     "name": "stderr",
     "output_type": "stream",
     "text": [
      "Epoch 1/4:   0%|          | 0/313 [00:00<?, ?it/s]C:\\Users\\Doog\\AppData\\Local\\Temp\\ipykernel_5008\\4095070014.py:15: FutureWarning: `torch.cuda.amp.autocast(args...)` is deprecated. Please use `torch.amp.autocast('cuda', args...)` instead.\n",
      "  with autocast():\n",
      "Epoch 1/4: 100%|██████████| 313/313 [04:59<00:00,  1.05it/s, accuracy=75.6, loss=0.391]\n",
      "C:\\Users\\Doog\\AppData\\Local\\Temp\\ipykernel_5008\\4095070014.py:37: FutureWarning: `torch.cuda.amp.autocast(args...)` is deprecated. Please use `torch.amp.autocast('cuda', args...)` instead.\n",
      "  with autocast():\n"
     ]
    },
    {
     "name": "stdout",
     "output_type": "stream",
     "text": [
      "Epoch [1/4], Loss: 0.7813, Train Acc: 75.64%, Val Acc: 88.84%\n"
     ]
    },
    {
     "name": "stderr",
     "output_type": "stream",
     "text": [
      "Epoch 2/4: 100%|██████████| 313/313 [01:17<00:00,  4.05it/s, accuracy=91, loss=0.142]  \n"
     ]
    },
    {
     "name": "stdout",
     "output_type": "stream",
     "text": [
      "Epoch [2/4], Loss: 0.2830, Train Acc: 91.03%, Val Acc: 91.27%\n"
     ]
    },
    {
     "name": "stderr",
     "output_type": "stream",
     "text": [
      "Epoch 3/4: 100%|██████████| 313/313 [01:15<00:00,  4.13it/s, accuracy=93.9, loss=0.0973]\n"
     ]
    },
    {
     "name": "stdout",
     "output_type": "stream",
     "text": [
      "Epoch [3/4], Loss: 0.1943, Train Acc: 93.92%, Val Acc: 92.33%\n"
     ]
    },
    {
     "name": "stderr",
     "output_type": "stream",
     "text": [
      "Epoch 4/4: 100%|██████████| 313/313 [01:16<00:00,  4.08it/s, accuracy=95.8, loss=0.0701]\n"
     ]
    },
    {
     "name": "stdout",
     "output_type": "stream",
     "text": [
      "Epoch [4/4], Loss: 0.1399, Train Acc: 95.75%, Val Acc: 92.63%\n"
     ]
    }
   ],
   "source": [
    "# 定义训练的轮数\n",
    "num_epochs = 4\n",
    "\n",
    "# 初始化列表，用于存储训练损失、训练准确率和验证准确率\n",
    "train_losses = []\n",
    "train_accuracies = []\n",
    "val_accuracies = []\n",
    "\n",
    "# 开始训练循环\n",
    "for epoch in range(num_epochs):\n",
    "    model.train()  # 将模型设置为训练模式\n",
    "    running_loss = 0.0  # 初始化累计损失\n",
    "    correct = 0  # 初始化正确预测的计数\n",
    "    total = 0  # 初始化总样本数\n",
    "    progress_bar = tqdm(train_loader, desc=f\"Epoch {epoch+1}/{num_epochs}\")  # 创建进度条\n",
    "\n",
    "    # 遍历训练数据\n",
    "    for images, labels in progress_bar:\n",
    "        images, labels = images.to(device), labels.to(device)  # 将图像和标签移动到设备（GPU 或 CPU）\n",
    "        optimizer.zero_grad()  # 清零梯度\n",
    "        with autocast():  # 使用混合精度训练\n",
    "            outputs = model(images)  # 前向传播\n",
    "            loss = criterion(outputs, labels)  # 计算损失\n",
    "        scaler.scale(loss).backward()  # 反向传播并缩放梯度\n",
    "        scaler.step(optimizer)  # 更新模型参数\n",
    "        scaler.update()  # 更新缩放器\n",
    "        running_loss += loss.item()  # 累加损失\n",
    "        _, predicted = outputs.max(1)  # 获取预测结果\n",
    "        total += labels.size(0)  # 累加总样本数\n",
    "        correct += predicted.eq(labels).sum().item()  # 累加正确预测的计数\n",
    "        progress_bar.set_postfix(loss=running_loss/(total/labels.size(0)), accuracy=100.*correct/total)  # 更新进度条\n",
    "\n",
    "    # 计算并存储每个 epoch 的训练损失和准确率\n",
    "    train_loss = running_loss / len(train_loader)\n",
    "    train_acc = 100. * correct / total\n",
    "    train_losses.append(train_loss)\n",
    "    train_accuracies.append(train_acc)\n",
    "\n",
    "    model.eval()  # 将模型设置为评估模式\n",
    "    correct = 0  # 初始化正确预测的计数\n",
    "    total = 0  # 初始化总样本数\n",
    "    with torch.no_grad():  # 禁用梯度计算\n",
    "        for images, labels in val_loader:\n",
    "            images, labels = images.to(device), labels.to(device)  # 将图像和标签移动到设备（GPU 或 CPU）\n",
    "            with autocast():  # 使用混合精度评估\n",
    "                outputs = model(images)  # 前向传播\n",
    "            _, predicted = outputs.max(1)  # 获取预测结果\n",
    "            total += labels.size(0)  # 累加总样本数\n",
    "            correct += predicted.eq(labels).sum().item()  # 累加正确预测的计数\n",
    "\n",
    "    # 计算并存储每个 epoch 的验证准确率\n",
    "    val_acc = 100. * correct / total\n",
    "    val_accuracies.append(val_acc)\n",
    "\n",
    "    # 打印每个 epoch 的训练损失、训练准确率和验证准确率\n",
    "    print(f'Epoch [{epoch+1}/{num_epochs}], Loss: {train_loss:.4f}, Train Acc: {train_acc:.2f}%, Val Acc: {val_acc:.2f}%')"
   ]
  },
  {
   "cell_type": "code",
   "execution_count": 15,
   "metadata": {},
   "outputs": [
    {
     "data": {
      "image/png": "[encoded data removed]",
      "text/plain": [
       "<Figure size 1200x400 with 2 Axes>"
      ]
     },
     "metadata": {},
     "output_type": "display_data"
    }
   ],
   "source": [
    "plt.figure(figsize=(12, 4))\n",
    "plt.subplot(1, 2, 1)\n",
    "plt.plot(range(1, num_epochs+1), train_losses, label='Train Loss')\n",
    "plt.xlabel('Epoch')\n",
    "plt.ylabel('Loss')\n",
    "plt.title('Training Loss')\n",
    "plt.legend()\n",
    "\n",
    "plt.subplot(1, 2, 2)\n",
    "plt.plot(range(1, num_epochs+1), train_accuracies, label='Train Accuracy')\n",
    "plt.plot(range(1, num_epochs+1), val_accuracies, label='Validation Accuracy')\n",
    "plt.xlabel('Epoch')\n",
    "plt.ylabel('Accuracy')\n",
    "plt.title('Training and Validation Accuracy')\n",
    "plt.legend()\n",
    "\n",
    "plt.show()"
   ]
  },
  {
   "cell_type": "code",
   "execution_count": 16,
   "metadata": {},
   "outputs": [],
   "source": [
    "# 保存模型\n",
    "torch.save(model.state_dict(), 'resnet18_cifar10.pth')"
   ]
  },
  {
   "cell_type": "markdown",
   "metadata": {},
   "source": [
    "# 5.推理"
   ]
  },
  {
   "cell_type": "code",
   "execution_count": 17,
   "metadata": {},
   "outputs": [],
   "source": [
    "import os\n",
    "import torch\n",
    "import torch.nn as nn\n",
    "import torch.optim as optim\n",
    "import torchvision\n",
    "import torchvision.transforms as transforms\n",
    "from torch.utils.data import DataLoader, Dataset, random_split\n",
    "import pandas as pd\n",
    "import matplotlib.pyplot as plt\n",
    "from PIL import Image\n",
    "from torch.cuda.amp import GradScaler, autocast\n",
    "from tqdm import tqdm\n",
    "\n",
    "torch.backends.cudnn.benchmark = True"
   ]
  },
  {
   "cell_type": "code",
   "execution_count": 18,
   "metadata": {},
   "outputs": [],
   "source": [
    "IMG_DIR = '../data/cifar-10/test'\n",
    "SUBMISSION_FILE = '../data/cifar-10/submission.csv'"
   ]
  },
  {
   "cell_type": "code",
   "execution_count": null,
   "metadata": {},
   "outputs": [
    {
     "name": "stderr",
     "output_type": "stream",
     "text": [
      "C:\\Users\\Doog\\AppData\\Local\\Temp\\ipykernel_5008\\2252197813.py:42: FutureWarning: You are using `torch.load` with `weights_only=False` (the current default value), which uses the default pickle module implicitly. It is possible to construct malicious pickle data which will execute arbitrary code during unpickling (See https://github.com/pytorch/pytorch/blob/main/SECURITY.md#untrusted-models for more details). In a future release, the default value for `weights_only` will be flipped to `True`. This limits the functions that could be executed during unpickling. Arbitrary objects will no longer be allowed to be loaded via this mode unless they are explicitly allowlisted by the user via `torch.serialization.add_safe_globals`. We recommend you start setting `weights_only=True` for any use case where you don't have full control of the loaded file. Please open an issue on GitHub for any issues related to this experimental feature.\n",
      "  model.load_state_dict(torch.load('resnet18_cifar10.pth'))\n",
      "Inference: 100%|██████████| 586/586 [36:14<00:00,  3.71s/it]\n"
     ]
    }
   ],
   "source": [
    "class CustomCIFAR10TestDataset(Dataset):\n",
    "    def __init__(self, img_dir, transform=None):\n",
    "        self.img_dir = img_dir\n",
    "        self.transform = transform\n",
    "        self.img_names = os.listdir(img_dir)\n",
    "\n",
    "    def __len__(self):\n",
    "        return len(self.img_names)\n",
    "\n",
    "    def __getitem__(self, idx):\n",
    "        img_name = self.img_names[idx]\n",
    "        img_path = os.path.join(self.img_dir, img_name)\n",
    "        image = Image.open(img_path).convert('RGB')  # 使用 PIL 图像\n",
    "        if self.transform:\n",
    "            image = self.transform(image)\n",
    "        return image, img_name\n",
    "\n",
    "# 数据预处理\n",
    "test_transforms = transforms.Compose([\n",
    "    transforms.Resize(256),\n",
    "    transforms.CenterCrop(224),\n",
    "    transforms.ToTensor(),\n",
    "    transforms.Normalize([0.485, 0.456, 0.406], [0.229, 0.224, 0.225])\n",
    "])\n",
    "\n",
    "# 构造测试数据集\n",
    "test_dataset = CustomCIFAR10TestDataset(img_dir=IMG_DIR, transform=test_transforms)\n",
    "\n",
    "# 数据加载器\n",
    "test_loader = DataLoader(test_dataset, batch_size=512, shuffle=False, pin_memory=True)\n",
    "\n",
    "# 定义标签映射\n",
    "index_to_label = {\n",
    "    0: 'airplane', 1: 'automobile', 2: 'bird', 3: 'cat', 4: 'deer',\n",
    "    5: 'dog', 6: 'frog', 7: 'horse', 8: 'ship', 9: 'truck'\n",
    "}\n",
    "\n",
    "# 加载模型\n",
    "device = torch.device('cuda' if torch.cuda.is_available() else 'cpu')\n",
    "model = torchvision.models.resnet18(weights=None)\n",
    "model.fc = nn.Linear(512, 10)\n",
    "model.load_state_dict(torch.load('resnet18_cifar10.pth'))\n",
    "model = model.to(device)\n",
    "\n",
    "# 确保模型处于评估模式\n",
    "model.eval()\n",
    "\n",
    "# 存储预测结果\n",
    "predictions = []\n",
    "\n",
    "with torch.no_grad():\n",
    "    for images, img_names in tqdm(test_loader, desc=\"Inference\"):\n",
    "        images = images.to(device)\n",
    "        outputs = model(images)\n",
    "        _, predicted = outputs.max(1)\n",
    "        predicted = predicted.cpu().numpy()\n",
    "        for img_name, pred in zip(img_names, predicted):\n",
    "            label = index_to_label[pred]\n",
    "            predictions.append((img_name, label))\n",
    "\n",
    "# 保存预测结果到 submission.csv\n",
    "submission_df = pd.DataFrame(predictions, columns=['id', 'label'])\n",
    "submission_df['id'] = submission_df['id'].str.replace('.png', '')\n",
    "# submission_df.to_csv('submission.csv', index=False)"
   ]
  },
  {
   "cell_type": "code",
   "execution_count": 20,
   "metadata": {},
   "outputs": [],
   "source": [
    "# submission id转为int 按照id排序 保存到'../data/cifar-10/submission.csv'\n",
    "submission_df['id'] = submission_df['id'].astype(int)\n",
    "submission_df = submission_df.sort_values('id')\n",
    "submission_df.to_csv(SUBMISSION_FILE, index=False)"
   ]
  },
  {
   "cell_type": "code",
   "execution_count": 21,
   "metadata": {},
   "outputs": [
    {
     "data": {
      "text/html": [
       "<div>\n",
       "<style scoped>\n",
       "    .dataframe tbody tr th:only-of-type {\n",
       "        vertical-align: middle;\n",
       "    }\n",
       "\n",
       "    .dataframe tbody tr th {\n",
       "        vertical-align: top;\n",
       "    }\n",
       "\n",
       "    .dataframe thead th {\n",
       "        text-align: right;\n",
       "    }\n",
       "</style>\n",
       "<table border=\"1\" class=\"dataframe\">\n",
       "  <thead>\n",
       "    <tr style=\"text-align: right;\">\n",
       "      <th></th>\n",
       "      <th>id</th>\n",
       "      <th>label</th>\n",
       "    </tr>\n",
       "  </thead>\n",
       "  <tbody>\n",
       "    <tr>\n",
       "      <th>0</th>\n",
       "      <td>1</td>\n",
       "      <td>deer</td>\n",
       "    </tr>\n",
       "    <tr>\n",
       "      <th>111111</th>\n",
       "      <td>2</td>\n",
       "      <td>airplane</td>\n",
       "    </tr>\n",
       "    <tr>\n",
       "      <th>222222</th>\n",
       "      <td>3</td>\n",
       "      <td>automobile</td>\n",
       "    </tr>\n",
       "    <tr>\n",
       "      <th>233334</th>\n",
       "      <td>4</td>\n",
       "      <td>ship</td>\n",
       "    </tr>\n",
       "    <tr>\n",
       "      <th>244445</th>\n",
       "      <td>5</td>\n",
       "      <td>airplane</td>\n",
       "    </tr>\n",
       "    <tr>\n",
       "      <th>...</th>\n",
       "      <td>...</td>\n",
       "      <td>...</td>\n",
       "    </tr>\n",
       "    <tr>\n",
       "      <th>222218</th>\n",
       "      <td>299996</td>\n",
       "      <td>ship</td>\n",
       "    </tr>\n",
       "    <tr>\n",
       "      <th>222219</th>\n",
       "      <td>299997</td>\n",
       "      <td>frog</td>\n",
       "    </tr>\n",
       "    <tr>\n",
       "      <th>222220</th>\n",
       "      <td>299998</td>\n",
       "      <td>deer</td>\n",
       "    </tr>\n",
       "    <tr>\n",
       "      <th>222221</th>\n",
       "      <td>299999</td>\n",
       "      <td>bird</td>\n",
       "    </tr>\n",
       "    <tr>\n",
       "      <th>222227</th>\n",
       "      <td>300000</td>\n",
       "      <td>automobile</td>\n",
       "    </tr>\n",
       "  </tbody>\n",
       "</table>\n",
       "<p>300000 rows × 2 columns</p>\n",
       "</div>"
      ],
      "text/plain": [
       "            id       label\n",
       "0            1        deer\n",
       "111111       2    airplane\n",
       "222222       3  automobile\n",
       "233334       4        ship\n",
       "244445       5    airplane\n",
       "...        ...         ...\n",
       "222218  299996        ship\n",
       "222219  299997        frog\n",
       "222220  299998        deer\n",
       "222221  299999        bird\n",
       "222227  300000  automobile\n",
       "\n",
       "[300000 rows x 2 columns]"
      ]
     },
     "execution_count": 21,
     "metadata": {},
     "output_type": "execute_result"
    }
   ],
   "source": [
    "submission_df"
   ]
  },
  {
   "cell_type": "code",
   "execution_count": null,
   "metadata": {},
   "outputs": [],
   "source": []
  }
 ],
 "metadata": {
  "kernelspec": {
   "display_name": "d2l",
   "language": "python",
   "name": "python3"
  },
  "language_info": {
   "codemirror_mode": {
    "name": "ipython",
    "version": 3
   },
   "file_extension": ".py",
   "mimetype": "text/x-python",
   "name": "python",
   "nbconvert_exporter": "python",
   "pygments_lexer": "ipython3",
   "version": "3.9.21"
  }
 },
 "nbformat": 4,
 "nbformat_minor": 2
}
